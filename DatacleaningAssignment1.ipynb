{
  "nbformat": 4,
  "nbformat_minor": 0,
  "metadata": {
    "colab": {
      "name": "DatacleaningAssignment1.ipynb",
      "provenance": [],
      "collapsed_sections": [],
      "toc_visible": true,
      "authorship_tag": "ABX9TyPgwohcjNQ4Kil66sWzKGRB",
      "include_colab_link": true
    },
    "kernelspec": {
      "name": "python3",
      "display_name": "Python 3"
    },
    "language_info": {
      "name": "python"
    }
  },
  "cells": [
    {
      "cell_type": "markdown",
      "metadata": {
        "id": "view-in-github",
        "colab_type": "text"
      },
      "source": [
        "<a href=\"https://colab.research.google.com/github/Shreya-07/DataCleaningAssignment/blob/main/DatacleaningAssignment1.ipynb\" target=\"_parent\"><img src=\"https://colab.research.google.com/assets/colab-badge.svg\" alt=\"Open In Colab\"/></a>"
      ]
    },
    {
      "cell_type": "markdown",
      "metadata": {
        "id": "bVTC3zuf8_rg"
      },
      "source": [
        "importing dataset from github and reading via Pandas"
      ]
    },
    {
      "cell_type": "code",
      "metadata": {
        "colab": {
          "base_uri": "https://localhost:8080/",
          "height": 624
        },
        "id": "BFqLPW8r9ZWv",
        "outputId": "7a314faa-b3ae-4ab9-c6aa-942bc17eae2b"
      },
      "source": [
        "import pandas as pd\n",
        "import matplotlib.pyplot as plt\n",
        "df = pd.read_csv('https://raw.githubusercontent.com/Shreya-07/DataCleaningAssignment/main/uncleaneddata.csv')\n",
        "df.head(10)"
      ],
      "execution_count": 64,
      "outputs": [
        {
          "output_type": "execute_result",
          "data": {
            "text/html": [
              "<div>\n",
              "<style scoped>\n",
              "    .dataframe tbody tr th:only-of-type {\n",
              "        vertical-align: middle;\n",
              "    }\n",
              "\n",
              "    .dataframe tbody tr th {\n",
              "        vertical-align: top;\n",
              "    }\n",
              "\n",
              "    .dataframe thead th {\n",
              "        text-align: right;\n",
              "    }\n",
              "</style>\n",
              "<table border=\"1\" class=\"dataframe\">\n",
              "  <thead>\n",
              "    <tr style=\"text-align: right;\">\n",
              "      <th></th>\n",
              "      <th>movie_title</th>\n",
              "      <th>num_critic_for_reviews</th>\n",
              "      <th>duration</th>\n",
              "      <th>DIRECTOR_facebook_likes</th>\n",
              "      <th>actor_3_facebook_likes</th>\n",
              "      <th>ACTOR_1_facebook_likes</th>\n",
              "      <th>gross</th>\n",
              "      <th>num_voted_users</th>\n",
              "      <th>Cast_Total_facebook_likes</th>\n",
              "      <th>facenumber_in_poster</th>\n",
              "      <th>num_user_for_reviews</th>\n",
              "      <th>budget</th>\n",
              "      <th>title_year</th>\n",
              "      <th>ACTOR_2_facebook_likes</th>\n",
              "      <th>imdb_score</th>\n",
              "      <th>title_year.1</th>\n",
              "    </tr>\n",
              "  </thead>\n",
              "  <tbody>\n",
              "    <tr>\n",
              "      <th>0</th>\n",
              "      <td>Avatar??</td>\n",
              "      <td>723</td>\n",
              "      <td>178.0</td>\n",
              "      <td>10</td>\n",
              "      <td>855</td>\n",
              "      <td>1000</td>\n",
              "      <td>760505847</td>\n",
              "      <td>886204.0</td>\n",
              "      <td>4834.0</td>\n",
              "      <td>NaN</td>\n",
              "      <td>3054</td>\n",
              "      <td>237000000</td>\n",
              "      <td>2009</td>\n",
              "      <td>936.0</td>\n",
              "      <td>7.9</td>\n",
              "      <td>2009.0</td>\n",
              "    </tr>\n",
              "    <tr>\n",
              "      <th>1</th>\n",
              "      <td>Pirates of the Caribbean: At World's End??</td>\n",
              "      <td>302</td>\n",
              "      <td>NaN</td>\n",
              "      <td>563</td>\n",
              "      <td>1000</td>\n",
              "      <td>40000</td>\n",
              "      <td>309404152</td>\n",
              "      <td>471220.0</td>\n",
              "      <td>48350.0</td>\n",
              "      <td>NaN</td>\n",
              "      <td>1238</td>\n",
              "      <td>300000000</td>\n",
              "      <td>2007</td>\n",
              "      <td>5000.0</td>\n",
              "      <td>7.1</td>\n",
              "      <td>NaN</td>\n",
              "    </tr>\n",
              "    <tr>\n",
              "      <th>2</th>\n",
              "      <td>Spectre??</td>\n",
              "      <td>602</td>\n",
              "      <td>148.0</td>\n",
              "      <td>20</td>\n",
              "      <td>161</td>\n",
              "      <td>11000</td>\n",
              "      <td>200074175</td>\n",
              "      <td>275868.0</td>\n",
              "      <td>11700.0</td>\n",
              "      <td>1.0</td>\n",
              "      <td>994</td>\n",
              "      <td>245000000</td>\n",
              "      <td>2015</td>\n",
              "      <td>393.0</td>\n",
              "      <td>6.8</td>\n",
              "      <td>2015.0</td>\n",
              "    </tr>\n",
              "    <tr>\n",
              "      <th>3</th>\n",
              "      <td>The Dark Knight Rises??</td>\n",
              "      <td>813</td>\n",
              "      <td>NaN</td>\n",
              "      <td>22000</td>\n",
              "      <td>23000</td>\n",
              "      <td>27000</td>\n",
              "      <td>448130642</td>\n",
              "      <td>1144337.0</td>\n",
              "      <td>106759.0</td>\n",
              "      <td>NaN</td>\n",
              "      <td>2701</td>\n",
              "      <td>250000000</td>\n",
              "      <td>2012</td>\n",
              "      <td>23000.0</td>\n",
              "      <td>8.5</td>\n",
              "      <td>NaN</td>\n",
              "    </tr>\n",
              "    <tr>\n",
              "      <th>4</th>\n",
              "      <td>John Carter??</td>\n",
              "      <td>462</td>\n",
              "      <td>132.0</td>\n",
              "      <td>\"475\"</td>\n",
              "      <td>530</td>\n",
              "      <td>640</td>\n",
              "      <td>73058679</td>\n",
              "      <td>212204.0</td>\n",
              "      <td>1873.0</td>\n",
              "      <td>1.0</td>\n",
              "      <td>738</td>\n",
              "      <td>263700000</td>\n",
              "      <td>2012</td>\n",
              "      <td>632.0</td>\n",
              "      <td>6.6</td>\n",
              "      <td>NaN</td>\n",
              "    </tr>\n",
              "    <tr>\n",
              "      <th>5</th>\n",
              "      <td>Spider-Man 3??</td>\n",
              "      <td>392</td>\n",
              "      <td>156.0</td>\n",
              "      <td>23</td>\n",
              "      <td>4000</td>\n",
              "      <td>24000</td>\n",
              "      <td>336530303</td>\n",
              "      <td>383056.0</td>\n",
              "      <td>46055.0</td>\n",
              "      <td>NaN</td>\n",
              "      <td>1902</td>\n",
              "      <td>258000000</td>\n",
              "      <td>2007</td>\n",
              "      <td>11000.0</td>\n",
              "      <td>6.2</td>\n",
              "      <td>2007.0</td>\n",
              "    </tr>\n",
              "    <tr>\n",
              "      <th>6</th>\n",
              "      <td>Tangled??</td>\n",
              "      <td>324</td>\n",
              "      <td>NaN</td>\n",
              "      <td>15</td>\n",
              "      <td>284</td>\n",
              "      <td>799</td>\n",
              "      <td>200807262</td>\n",
              "      <td>294810.0</td>\n",
              "      <td>NaN</td>\n",
              "      <td>1.0</td>\n",
              "      <td>387</td>\n",
              "      <td>260000000</td>\n",
              "      <td>2010</td>\n",
              "      <td>553.0</td>\n",
              "      <td>7.8</td>\n",
              "      <td>NaN</td>\n",
              "    </tr>\n",
              "    <tr>\n",
              "      <th>7</th>\n",
              "      <td>Avengers: Age of Ultron??</td>\n",
              "      <td>635</td>\n",
              "      <td>141.0</td>\n",
              "      <td>10</td>\n",
              "      <td>19000</td>\n",
              "      <td>26000</td>\n",
              "      <td>458991599</td>\n",
              "      <td>462669.0</td>\n",
              "      <td>92000.0</td>\n",
              "      <td>4.0</td>\n",
              "      <td>1117</td>\n",
              "      <td>250000000</td>\n",
              "      <td>2015</td>\n",
              "      <td>21000.0</td>\n",
              "      <td>7.5</td>\n",
              "      <td>NaN</td>\n",
              "    </tr>\n",
              "    <tr>\n",
              "      <th>8</th>\n",
              "      <td>Avengers: Age of Ultron??</td>\n",
              "      <td>635</td>\n",
              "      <td>141.0</td>\n",
              "      <td>10</td>\n",
              "      <td>19000</td>\n",
              "      <td>26000</td>\n",
              "      <td>458991599</td>\n",
              "      <td>462669.0</td>\n",
              "      <td>92000.0</td>\n",
              "      <td>4.0</td>\n",
              "      <td>1117</td>\n",
              "      <td>250000000</td>\n",
              "      <td>2015</td>\n",
              "      <td>21000.0</td>\n",
              "      <td>7.5</td>\n",
              "      <td>2015.0</td>\n",
              "    </tr>\n",
              "    <tr>\n",
              "      <th>9</th>\n",
              "      <td>Harry Potter and the Half-Blood Prince??</td>\n",
              "      <td>375</td>\n",
              "      <td>153.0</td>\n",
              "      <td>282</td>\n",
              "      <td>10000</td>\n",
              "      <td>25000</td>\n",
              "      <td>301956980</td>\n",
              "      <td>321795.0</td>\n",
              "      <td>58753.0</td>\n",
              "      <td>3.0</td>\n",
              "      <td>973</td>\n",
              "      <td>250000000</td>\n",
              "      <td>2009</td>\n",
              "      <td>11000.0</td>\n",
              "      <td>7.5</td>\n",
              "      <td>NaN</td>\n",
              "    </tr>\n",
              "  </tbody>\n",
              "</table>\n",
              "</div>"
            ],
            "text/plain": [
              "                                  movie_title  ...  title_year.1\n",
              "0                                    Avatar??  ...        2009.0\n",
              "1  Pirates of the Caribbean: At World's End??  ...           NaN\n",
              "2                                   Spectre??  ...        2015.0\n",
              "3                     The Dark Knight Rises??  ...           NaN\n",
              "4                               John Carter??  ...           NaN\n",
              "5                              Spider-Man 3??  ...        2007.0\n",
              "6                                   Tangled??  ...           NaN\n",
              "7                   Avengers: Age of Ultron??  ...           NaN\n",
              "8                   Avengers: Age of Ultron??  ...        2015.0\n",
              "9    Harry Potter and the Half-Blood Prince??  ...           NaN\n",
              "\n",
              "[10 rows x 16 columns]"
            ]
          },
          "metadata": {},
          "execution_count": 64
        }
      ]
    },
    {
      "cell_type": "code",
      "metadata": {
        "colab": {
          "base_uri": "https://localhost:8080/"
        },
        "id": "BfRkouCf98_O",
        "outputId": "8f58dd28-f47b-41e2-ddfa-606aaae1f735"
      },
      "source": [
        "df.shape"
      ],
      "execution_count": 65,
      "outputs": [
        {
          "output_type": "execute_result",
          "data": {
            "text/plain": [
              "(112, 16)"
            ]
          },
          "metadata": {},
          "execution_count": 65
        }
      ]
    },
    {
      "cell_type": "markdown",
      "metadata": {
        "id": "zMDyAj6E-CU4"
      },
      "source": [
        "Remove Duplicate Rows if any"
      ]
    },
    {
      "cell_type": "code",
      "metadata": {
        "colab": {
          "base_uri": "https://localhost:8080/"
        },
        "id": "X6vgWGh9-F5k",
        "outputId": "b95c1865-6edc-4558-fa56-834dba5b3846"
      },
      "source": [
        "df.drop_duplicates(inplace= True)\n",
        "df.shape"
      ],
      "execution_count": 66,
      "outputs": [
        {
          "output_type": "execute_result",
          "data": {
            "text/plain": [
              "(112, 16)"
            ]
          },
          "metadata": {},
          "execution_count": 66
        }
      ]
    },
    {
      "cell_type": "markdown",
      "metadata": {
        "id": "zN8BEFXp_WtZ"
      },
      "source": [
        "See Column Headings"
      ]
    },
    {
      "cell_type": "code",
      "metadata": {
        "colab": {
          "base_uri": "https://localhost:8080/"
        },
        "id": "ealAHy5H_2Y5",
        "outputId": "cc5dda42-becf-46cf-a878-db798b66c09c"
      },
      "source": [
        "df.columns"
      ],
      "execution_count": 67,
      "outputs": [
        {
          "output_type": "execute_result",
          "data": {
            "text/plain": [
              "Index(['movie_title', 'num_critic_for_reviews', 'duration',\n",
              "       'DIRECTOR_facebook_likes', 'actor_3_facebook_likes',\n",
              "       'ACTOR_1_facebook_likes', 'gross', 'num_voted_users',\n",
              "       'Cast_Total_facebook_likes', 'facenumber_in_poster',\n",
              "       'num_user_for_reviews', 'budget', 'title_year',\n",
              "       'ACTOR_2_facebook_likes', 'imdb_score', 'title_year.1'],\n",
              "      dtype='object')"
            ]
          },
          "metadata": {},
          "execution_count": 67
        }
      ]
    },
    {
      "cell_type": "markdown",
      "metadata": {
        "id": "zQmCOce0DBTd"
      },
      "source": [
        "Some Headings are in upper case while others are in lower case so we will change the case."
      ]
    },
    {
      "cell_type": "code",
      "metadata": {
        "colab": {
          "base_uri": "https://localhost:8080/"
        },
        "id": "hzszyM1lDOOK",
        "outputId": "829f72a1-7f5e-4cad-fc3c-947fca539dc3"
      },
      "source": [
        "df.columns = df.columns.str.upper()\n",
        "df.columns"
      ],
      "execution_count": 68,
      "outputs": [
        {
          "output_type": "execute_result",
          "data": {
            "text/plain": [
              "Index(['MOVIE_TITLE', 'NUM_CRITIC_FOR_REVIEWS', 'DURATION',\n",
              "       'DIRECTOR_FACEBOOK_LIKES', 'ACTOR_3_FACEBOOK_LIKES',\n",
              "       'ACTOR_1_FACEBOOK_LIKES', 'GROSS', 'NUM_VOTED_USERS',\n",
              "       'CAST_TOTAL_FACEBOOK_LIKES', 'FACENUMBER_IN_POSTER',\n",
              "       'NUM_USER_FOR_REVIEWS', 'BUDGET', 'TITLE_YEAR',\n",
              "       'ACTOR_2_FACEBOOK_LIKES', 'IMDB_SCORE', 'TITLE_YEAR.1'],\n",
              "      dtype='object')"
            ]
          },
          "metadata": {},
          "execution_count": 68
        }
      ]
    },
    {
      "cell_type": "markdown",
      "metadata": {
        "id": "_AK_Oy-PD6Vc"
      },
      "source": [
        "Some Column headings are not clear so we will rename them"
      ]
    },
    {
      "cell_type": "code",
      "metadata": {
        "colab": {
          "base_uri": "https://localhost:8080/"
        },
        "id": "bLmCHM25IYUV",
        "outputId": "3a7f8c1a-8d9f-45fe-d228-81a2ea533465"
      },
      "source": [
        "rename = {'DURATION': 'TIME', 'GROSS':'TOTAL', 'IMDB_SCORE':'RATING', 'TITLE_YEAR':'RELEASE_YEAR', 'TITLE_YEAR.1':'RE_RELEASE_YEAR'}\n",
        "df.rename(columns=rename,inplace=True)\n",
        "df.columns"
      ],
      "execution_count": 69,
      "outputs": [
        {
          "output_type": "execute_result",
          "data": {
            "text/plain": [
              "Index(['MOVIE_TITLE', 'NUM_CRITIC_FOR_REVIEWS', 'TIME',\n",
              "       'DIRECTOR_FACEBOOK_LIKES', 'ACTOR_3_FACEBOOK_LIKES',\n",
              "       'ACTOR_1_FACEBOOK_LIKES', 'TOTAL', 'NUM_VOTED_USERS',\n",
              "       'CAST_TOTAL_FACEBOOK_LIKES', 'FACENUMBER_IN_POSTER',\n",
              "       'NUM_USER_FOR_REVIEWS', 'BUDGET', 'RELEASE_YEAR',\n",
              "       'ACTOR_2_FACEBOOK_LIKES', 'RATING', 'RE_RELEASE_YEAR'],\n",
              "      dtype='object')"
            ]
          },
          "metadata": {},
          "execution_count": 69
        }
      ]
    },
    {
      "cell_type": "markdown",
      "metadata": {
        "id": "h3qYdM12qRVF"
      },
      "source": [
        "Drop duplicate movie titles"
      ]
    },
    {
      "cell_type": "code",
      "metadata": {
        "colab": {
          "base_uri": "https://localhost:8080/"
        },
        "id": "Wm5QqLaUqUNq",
        "outputId": "a2a1f00a-1fce-46f6-b918-ca07b8420069"
      },
      "source": [
        "df.duplicated('MOVIE_TITLE').any()"
      ],
      "execution_count": 70,
      "outputs": [
        {
          "output_type": "execute_result",
          "data": {
            "text/plain": [
              "True"
            ]
          },
          "metadata": {},
          "execution_count": 70
        }
      ]
    },
    {
      "cell_type": "code",
      "metadata": {
        "colab": {
          "base_uri": "https://localhost:8080/"
        },
        "id": "wZTTK3VBqZph",
        "outputId": "d1a3491b-998c-4316-d9c0-848dbc455680"
      },
      "source": [
        "df =  df.drop_duplicates('MOVIE_TITLE')\n",
        "df.shape"
      ],
      "execution_count": 71,
      "outputs": [
        {
          "output_type": "execute_result",
          "data": {
            "text/plain": [
              "(110, 16)"
            ]
          },
          "metadata": {},
          "execution_count": 71
        }
      ]
    },
    {
      "cell_type": "markdown",
      "metadata": {
        "id": "RuKKzF6UqeVn"
      },
      "source": [
        "As we can see from the shape of the dataset, two duplicate rows Removed"
      ]
    },
    {
      "cell_type": "markdown",
      "metadata": {
        "id": "mG3OPa9ibT81"
      },
      "source": [
        "Check for the inconsistencies in data types"
      ]
    },
    {
      "cell_type": "code",
      "metadata": {
        "colab": {
          "base_uri": "https://localhost:8080/"
        },
        "id": "P-Nh71rFbZ9B",
        "outputId": "98e64caf-25a7-4867-9193-e401220acc7e"
      },
      "source": [
        "df.dtypes"
      ],
      "execution_count": 72,
      "outputs": [
        {
          "output_type": "execute_result",
          "data": {
            "text/plain": [
              "MOVIE_TITLE                   object\n",
              "NUM_CRITIC_FOR_REVIEWS         int64\n",
              "TIME                         float64\n",
              "DIRECTOR_FACEBOOK_LIKES       object\n",
              "ACTOR_3_FACEBOOK_LIKES         int64\n",
              "ACTOR_1_FACEBOOK_LIKES         int64\n",
              "TOTAL                          int64\n",
              "NUM_VOTED_USERS              float64\n",
              "CAST_TOTAL_FACEBOOK_LIKES    float64\n",
              "FACENUMBER_IN_POSTER         float64\n",
              "NUM_USER_FOR_REVIEWS           int64\n",
              "BUDGET                         int64\n",
              "RELEASE_YEAR                   int64\n",
              "ACTOR_2_FACEBOOK_LIKES       float64\n",
              "RATING                       float64\n",
              "RE_RELEASE_YEAR              float64\n",
              "dtype: object"
            ]
          },
          "metadata": {},
          "execution_count": 72
        }
      ]
    },
    {
      "cell_type": "code",
      "metadata": {
        "colab": {
          "base_uri": "https://localhost:8080/"
        },
        "id": "RFbbBUH2ctK1",
        "outputId": "684db373-0497-450c-9926-4988e679a9d4"
      },
      "source": [
        "df.TOTAL.dtypes"
      ],
      "execution_count": 73,
      "outputs": [
        {
          "output_type": "execute_result",
          "data": {
            "text/plain": [
              "dtype('int64')"
            ]
          },
          "metadata": {},
          "execution_count": 73
        }
      ]
    },
    {
      "cell_type": "code",
      "metadata": {
        "colab": {
          "base_uri": "https://localhost:8080/"
        },
        "id": "qkimQIJNc0VM",
        "outputId": "4967bd13-a5a1-4dd4-89b5-bc92ca9f0866"
      },
      "source": [
        "df.TOTAL.astype(float).dtypes"
      ],
      "execution_count": 74,
      "outputs": [
        {
          "output_type": "execute_result",
          "data": {
            "text/plain": [
              "dtype('float64')"
            ]
          },
          "metadata": {},
          "execution_count": 74
        }
      ]
    },
    {
      "cell_type": "markdown",
      "metadata": {
        "id": "-qXxa7oyJVt4"
      },
      "source": [
        "NOW check if there is any missing data in the dataset"
      ]
    },
    {
      "cell_type": "code",
      "metadata": {
        "colab": {
          "base_uri": "https://localhost:8080/"
        },
        "id": "gzf6JWRiJZ5v",
        "outputId": "570b8e56-e9f9-407e-a1b2-5c14264d0a6b"
      },
      "source": [
        "df.isnull().any()"
      ],
      "execution_count": 75,
      "outputs": [
        {
          "output_type": "execute_result",
          "data": {
            "text/plain": [
              "MOVIE_TITLE                  False\n",
              "NUM_CRITIC_FOR_REVIEWS       False\n",
              "TIME                          True\n",
              "DIRECTOR_FACEBOOK_LIKES       True\n",
              "ACTOR_3_FACEBOOK_LIKES       False\n",
              "ACTOR_1_FACEBOOK_LIKES       False\n",
              "TOTAL                        False\n",
              "NUM_VOTED_USERS               True\n",
              "CAST_TOTAL_FACEBOOK_LIKES     True\n",
              "FACENUMBER_IN_POSTER          True\n",
              "NUM_USER_FOR_REVIEWS         False\n",
              "BUDGET                       False\n",
              "RELEASE_YEAR                 False\n",
              "ACTOR_2_FACEBOOK_LIKES        True\n",
              "RATING                       False\n",
              "RE_RELEASE_YEAR               True\n",
              "dtype: bool"
            ]
          },
          "metadata": {},
          "execution_count": 75
        }
      ]
    },
    {
      "cell_type": "markdown",
      "metadata": {
        "id": "t4gFax7EguSP"
      },
      "source": [
        "Find How many Missing values does these columns have"
      ]
    },
    {
      "cell_type": "code",
      "metadata": {
        "colab": {
          "base_uri": "https://localhost:8080/"
        },
        "id": "GI6BfQwOg0dw",
        "outputId": "66ec0951-665c-4511-c5f5-b225d689f819"
      },
      "source": [
        "df.isnull().sum()"
      ],
      "execution_count": 76,
      "outputs": [
        {
          "output_type": "execute_result",
          "data": {
            "text/plain": [
              "MOVIE_TITLE                   0\n",
              "NUM_CRITIC_FOR_REVIEWS        0\n",
              "TIME                         24\n",
              "DIRECTOR_FACEBOOK_LIKES      16\n",
              "ACTOR_3_FACEBOOK_LIKES        0\n",
              "ACTOR_1_FACEBOOK_LIKES        0\n",
              "TOTAL                         0\n",
              "NUM_VOTED_USERS               8\n",
              "CAST_TOTAL_FACEBOOK_LIKES    16\n",
              "FACENUMBER_IN_POSTER         40\n",
              "NUM_USER_FOR_REVIEWS          0\n",
              "BUDGET                        0\n",
              "RELEASE_YEAR                  0\n",
              "ACTOR_2_FACEBOOK_LIKES        8\n",
              "RATING                        0\n",
              "RE_RELEASE_YEAR              55\n",
              "dtype: int64"
            ]
          },
          "metadata": {},
          "execution_count": 76
        }
      ]
    },
    {
      "cell_type": "markdown",
      "metadata": {
        "id": "9s6VnhKoldg6"
      },
      "source": [
        "Total Missing values in the dataset"
      ]
    },
    {
      "cell_type": "code",
      "metadata": {
        "colab": {
          "base_uri": "https://localhost:8080/"
        },
        "id": "4HHV1lvNlgAV",
        "outputId": "cddde749-8478-4991-dfcc-3a42d61e6234"
      },
      "source": [
        "df.isnull().sum().sum()"
      ],
      "execution_count": 77,
      "outputs": [
        {
          "output_type": "execute_result",
          "data": {
            "text/plain": [
              "167"
            ]
          },
          "metadata": {},
          "execution_count": 77
        }
      ]
    },
    {
      "cell_type": "markdown",
      "metadata": {
        "id": "iWMlDWGtlov4"
      },
      "source": [
        "Fill all NAN values with 0 in all columns"
      ]
    },
    {
      "cell_type": "code",
      "metadata": {
        "colab": {
          "base_uri": "https://localhost:8080/",
          "height": 329
        },
        "id": "jR9YKkNtoINL",
        "outputId": "fef6f31e-eab6-455d-a6bc-8e0e56d29c50"
      },
      "source": [
        "df.head()"
      ],
      "execution_count": 78,
      "outputs": [
        {
          "output_type": "execute_result",
          "data": {
            "text/html": [
              "<div>\n",
              "<style scoped>\n",
              "    .dataframe tbody tr th:only-of-type {\n",
              "        vertical-align: middle;\n",
              "    }\n",
              "\n",
              "    .dataframe tbody tr th {\n",
              "        vertical-align: top;\n",
              "    }\n",
              "\n",
              "    .dataframe thead th {\n",
              "        text-align: right;\n",
              "    }\n",
              "</style>\n",
              "<table border=\"1\" class=\"dataframe\">\n",
              "  <thead>\n",
              "    <tr style=\"text-align: right;\">\n",
              "      <th></th>\n",
              "      <th>MOVIE_TITLE</th>\n",
              "      <th>NUM_CRITIC_FOR_REVIEWS</th>\n",
              "      <th>TIME</th>\n",
              "      <th>DIRECTOR_FACEBOOK_LIKES</th>\n",
              "      <th>ACTOR_3_FACEBOOK_LIKES</th>\n",
              "      <th>ACTOR_1_FACEBOOK_LIKES</th>\n",
              "      <th>TOTAL</th>\n",
              "      <th>NUM_VOTED_USERS</th>\n",
              "      <th>CAST_TOTAL_FACEBOOK_LIKES</th>\n",
              "      <th>FACENUMBER_IN_POSTER</th>\n",
              "      <th>NUM_USER_FOR_REVIEWS</th>\n",
              "      <th>BUDGET</th>\n",
              "      <th>RELEASE_YEAR</th>\n",
              "      <th>ACTOR_2_FACEBOOK_LIKES</th>\n",
              "      <th>RATING</th>\n",
              "      <th>RE_RELEASE_YEAR</th>\n",
              "    </tr>\n",
              "  </thead>\n",
              "  <tbody>\n",
              "    <tr>\n",
              "      <th>0</th>\n",
              "      <td>Avatar??</td>\n",
              "      <td>723</td>\n",
              "      <td>178.0</td>\n",
              "      <td>10</td>\n",
              "      <td>855</td>\n",
              "      <td>1000</td>\n",
              "      <td>760505847</td>\n",
              "      <td>886204.0</td>\n",
              "      <td>4834.0</td>\n",
              "      <td>NaN</td>\n",
              "      <td>3054</td>\n",
              "      <td>237000000</td>\n",
              "      <td>2009</td>\n",
              "      <td>936.0</td>\n",
              "      <td>7.9</td>\n",
              "      <td>2009.0</td>\n",
              "    </tr>\n",
              "    <tr>\n",
              "      <th>1</th>\n",
              "      <td>Pirates of the Caribbean: At World's End??</td>\n",
              "      <td>302</td>\n",
              "      <td>NaN</td>\n",
              "      <td>563</td>\n",
              "      <td>1000</td>\n",
              "      <td>40000</td>\n",
              "      <td>309404152</td>\n",
              "      <td>471220.0</td>\n",
              "      <td>48350.0</td>\n",
              "      <td>NaN</td>\n",
              "      <td>1238</td>\n",
              "      <td>300000000</td>\n",
              "      <td>2007</td>\n",
              "      <td>5000.0</td>\n",
              "      <td>7.1</td>\n",
              "      <td>NaN</td>\n",
              "    </tr>\n",
              "    <tr>\n",
              "      <th>2</th>\n",
              "      <td>Spectre??</td>\n",
              "      <td>602</td>\n",
              "      <td>148.0</td>\n",
              "      <td>20</td>\n",
              "      <td>161</td>\n",
              "      <td>11000</td>\n",
              "      <td>200074175</td>\n",
              "      <td>275868.0</td>\n",
              "      <td>11700.0</td>\n",
              "      <td>1.0</td>\n",
              "      <td>994</td>\n",
              "      <td>245000000</td>\n",
              "      <td>2015</td>\n",
              "      <td>393.0</td>\n",
              "      <td>6.8</td>\n",
              "      <td>2015.0</td>\n",
              "    </tr>\n",
              "    <tr>\n",
              "      <th>3</th>\n",
              "      <td>The Dark Knight Rises??</td>\n",
              "      <td>813</td>\n",
              "      <td>NaN</td>\n",
              "      <td>22000</td>\n",
              "      <td>23000</td>\n",
              "      <td>27000</td>\n",
              "      <td>448130642</td>\n",
              "      <td>1144337.0</td>\n",
              "      <td>106759.0</td>\n",
              "      <td>NaN</td>\n",
              "      <td>2701</td>\n",
              "      <td>250000000</td>\n",
              "      <td>2012</td>\n",
              "      <td>23000.0</td>\n",
              "      <td>8.5</td>\n",
              "      <td>NaN</td>\n",
              "    </tr>\n",
              "    <tr>\n",
              "      <th>4</th>\n",
              "      <td>John Carter??</td>\n",
              "      <td>462</td>\n",
              "      <td>132.0</td>\n",
              "      <td>\"475\"</td>\n",
              "      <td>530</td>\n",
              "      <td>640</td>\n",
              "      <td>73058679</td>\n",
              "      <td>212204.0</td>\n",
              "      <td>1873.0</td>\n",
              "      <td>1.0</td>\n",
              "      <td>738</td>\n",
              "      <td>263700000</td>\n",
              "      <td>2012</td>\n",
              "      <td>632.0</td>\n",
              "      <td>6.6</td>\n",
              "      <td>NaN</td>\n",
              "    </tr>\n",
              "  </tbody>\n",
              "</table>\n",
              "</div>"
            ],
            "text/plain": [
              "                                  MOVIE_TITLE  ...  RE_RELEASE_YEAR\n",
              "0                                    Avatar??  ...           2009.0\n",
              "1  Pirates of the Caribbean: At World's End??  ...              NaN\n",
              "2                                   Spectre??  ...           2015.0\n",
              "3                     The Dark Knight Rises??  ...              NaN\n",
              "4                               John Carter??  ...              NaN\n",
              "\n",
              "[5 rows x 16 columns]"
            ]
          },
          "metadata": {},
          "execution_count": 78
        }
      ]
    },
    {
      "cell_type": "markdown",
      "metadata": {
        "id": "b2ph-QViJWc9"
      },
      "source": [
        "The Time column has value 0 which can be imputed with the mean of all values in the column"
      ]
    },
    {
      "cell_type": "code",
      "metadata": {
        "colab": {
          "base_uri": "https://localhost:8080/",
          "height": 329
        },
        "id": "jU0ApsvfJiwt",
        "outputId": "449f51f1-1350-49cf-f26a-8c6089924f27"
      },
      "source": [
        "df['TIME'] = df.TIME.fillna(df['TIME'].mean())\n",
        "df.head()"
      ],
      "execution_count": 79,
      "outputs": [
        {
          "output_type": "execute_result",
          "data": {
            "text/html": [
              "<div>\n",
              "<style scoped>\n",
              "    .dataframe tbody tr th:only-of-type {\n",
              "        vertical-align: middle;\n",
              "    }\n",
              "\n",
              "    .dataframe tbody tr th {\n",
              "        vertical-align: top;\n",
              "    }\n",
              "\n",
              "    .dataframe thead th {\n",
              "        text-align: right;\n",
              "    }\n",
              "</style>\n",
              "<table border=\"1\" class=\"dataframe\">\n",
              "  <thead>\n",
              "    <tr style=\"text-align: right;\">\n",
              "      <th></th>\n",
              "      <th>MOVIE_TITLE</th>\n",
              "      <th>NUM_CRITIC_FOR_REVIEWS</th>\n",
              "      <th>TIME</th>\n",
              "      <th>DIRECTOR_FACEBOOK_LIKES</th>\n",
              "      <th>ACTOR_3_FACEBOOK_LIKES</th>\n",
              "      <th>ACTOR_1_FACEBOOK_LIKES</th>\n",
              "      <th>TOTAL</th>\n",
              "      <th>NUM_VOTED_USERS</th>\n",
              "      <th>CAST_TOTAL_FACEBOOK_LIKES</th>\n",
              "      <th>FACENUMBER_IN_POSTER</th>\n",
              "      <th>NUM_USER_FOR_REVIEWS</th>\n",
              "      <th>BUDGET</th>\n",
              "      <th>RELEASE_YEAR</th>\n",
              "      <th>ACTOR_2_FACEBOOK_LIKES</th>\n",
              "      <th>RATING</th>\n",
              "      <th>RE_RELEASE_YEAR</th>\n",
              "    </tr>\n",
              "  </thead>\n",
              "  <tbody>\n",
              "    <tr>\n",
              "      <th>0</th>\n",
              "      <td>Avatar??</td>\n",
              "      <td>723</td>\n",
              "      <td>178.000000</td>\n",
              "      <td>10</td>\n",
              "      <td>855</td>\n",
              "      <td>1000</td>\n",
              "      <td>760505847</td>\n",
              "      <td>886204.0</td>\n",
              "      <td>4834.0</td>\n",
              "      <td>NaN</td>\n",
              "      <td>3054</td>\n",
              "      <td>237000000</td>\n",
              "      <td>2009</td>\n",
              "      <td>936.0</td>\n",
              "      <td>7.9</td>\n",
              "      <td>2009.0</td>\n",
              "    </tr>\n",
              "    <tr>\n",
              "      <th>1</th>\n",
              "      <td>Pirates of the Caribbean: At World's End??</td>\n",
              "      <td>302</td>\n",
              "      <td>152.848837</td>\n",
              "      <td>563</td>\n",
              "      <td>1000</td>\n",
              "      <td>40000</td>\n",
              "      <td>309404152</td>\n",
              "      <td>471220.0</td>\n",
              "      <td>48350.0</td>\n",
              "      <td>NaN</td>\n",
              "      <td>1238</td>\n",
              "      <td>300000000</td>\n",
              "      <td>2007</td>\n",
              "      <td>5000.0</td>\n",
              "      <td>7.1</td>\n",
              "      <td>NaN</td>\n",
              "    </tr>\n",
              "    <tr>\n",
              "      <th>2</th>\n",
              "      <td>Spectre??</td>\n",
              "      <td>602</td>\n",
              "      <td>148.000000</td>\n",
              "      <td>20</td>\n",
              "      <td>161</td>\n",
              "      <td>11000</td>\n",
              "      <td>200074175</td>\n",
              "      <td>275868.0</td>\n",
              "      <td>11700.0</td>\n",
              "      <td>1.0</td>\n",
              "      <td>994</td>\n",
              "      <td>245000000</td>\n",
              "      <td>2015</td>\n",
              "      <td>393.0</td>\n",
              "      <td>6.8</td>\n",
              "      <td>2015.0</td>\n",
              "    </tr>\n",
              "    <tr>\n",
              "      <th>3</th>\n",
              "      <td>The Dark Knight Rises??</td>\n",
              "      <td>813</td>\n",
              "      <td>152.848837</td>\n",
              "      <td>22000</td>\n",
              "      <td>23000</td>\n",
              "      <td>27000</td>\n",
              "      <td>448130642</td>\n",
              "      <td>1144337.0</td>\n",
              "      <td>106759.0</td>\n",
              "      <td>NaN</td>\n",
              "      <td>2701</td>\n",
              "      <td>250000000</td>\n",
              "      <td>2012</td>\n",
              "      <td>23000.0</td>\n",
              "      <td>8.5</td>\n",
              "      <td>NaN</td>\n",
              "    </tr>\n",
              "    <tr>\n",
              "      <th>4</th>\n",
              "      <td>John Carter??</td>\n",
              "      <td>462</td>\n",
              "      <td>132.000000</td>\n",
              "      <td>\"475\"</td>\n",
              "      <td>530</td>\n",
              "      <td>640</td>\n",
              "      <td>73058679</td>\n",
              "      <td>212204.0</td>\n",
              "      <td>1873.0</td>\n",
              "      <td>1.0</td>\n",
              "      <td>738</td>\n",
              "      <td>263700000</td>\n",
              "      <td>2012</td>\n",
              "      <td>632.0</td>\n",
              "      <td>6.6</td>\n",
              "      <td>NaN</td>\n",
              "    </tr>\n",
              "  </tbody>\n",
              "</table>\n",
              "</div>"
            ],
            "text/plain": [
              "                                  MOVIE_TITLE  ...  RE_RELEASE_YEAR\n",
              "0                                    Avatar??  ...           2009.0\n",
              "1  Pirates of the Caribbean: At World's End??  ...              NaN\n",
              "2                                   Spectre??  ...           2015.0\n",
              "3                     The Dark Knight Rises??  ...              NaN\n",
              "4                               John Carter??  ...              NaN\n",
              "\n",
              "[5 rows x 16 columns]"
            ]
          },
          "metadata": {},
          "execution_count": 79
        }
      ]
    },
    {
      "cell_type": "markdown",
      "metadata": {
        "id": "IeCWktR_TDy4"
      },
      "source": [
        "Fill Remaining Nan Records with 0"
      ]
    },
    {
      "cell_type": "code",
      "metadata": {
        "colab": {
          "base_uri": "https://localhost:8080/",
          "height": 329
        },
        "id": "I-fvq8kvTIcl",
        "outputId": "626c3f0b-4b35-4e00-b317-a49e9844e443"
      },
      "source": [
        "df = df.fillna(0)\n",
        "df.head()"
      ],
      "execution_count": 80,
      "outputs": [
        {
          "output_type": "execute_result",
          "data": {
            "text/html": [
              "<div>\n",
              "<style scoped>\n",
              "    .dataframe tbody tr th:only-of-type {\n",
              "        vertical-align: middle;\n",
              "    }\n",
              "\n",
              "    .dataframe tbody tr th {\n",
              "        vertical-align: top;\n",
              "    }\n",
              "\n",
              "    .dataframe thead th {\n",
              "        text-align: right;\n",
              "    }\n",
              "</style>\n",
              "<table border=\"1\" class=\"dataframe\">\n",
              "  <thead>\n",
              "    <tr style=\"text-align: right;\">\n",
              "      <th></th>\n",
              "      <th>MOVIE_TITLE</th>\n",
              "      <th>NUM_CRITIC_FOR_REVIEWS</th>\n",
              "      <th>TIME</th>\n",
              "      <th>DIRECTOR_FACEBOOK_LIKES</th>\n",
              "      <th>ACTOR_3_FACEBOOK_LIKES</th>\n",
              "      <th>ACTOR_1_FACEBOOK_LIKES</th>\n",
              "      <th>TOTAL</th>\n",
              "      <th>NUM_VOTED_USERS</th>\n",
              "      <th>CAST_TOTAL_FACEBOOK_LIKES</th>\n",
              "      <th>FACENUMBER_IN_POSTER</th>\n",
              "      <th>NUM_USER_FOR_REVIEWS</th>\n",
              "      <th>BUDGET</th>\n",
              "      <th>RELEASE_YEAR</th>\n",
              "      <th>ACTOR_2_FACEBOOK_LIKES</th>\n",
              "      <th>RATING</th>\n",
              "      <th>RE_RELEASE_YEAR</th>\n",
              "    </tr>\n",
              "  </thead>\n",
              "  <tbody>\n",
              "    <tr>\n",
              "      <th>0</th>\n",
              "      <td>Avatar??</td>\n",
              "      <td>723</td>\n",
              "      <td>178.000000</td>\n",
              "      <td>10</td>\n",
              "      <td>855</td>\n",
              "      <td>1000</td>\n",
              "      <td>760505847</td>\n",
              "      <td>886204.0</td>\n",
              "      <td>4834.0</td>\n",
              "      <td>0.0</td>\n",
              "      <td>3054</td>\n",
              "      <td>237000000</td>\n",
              "      <td>2009</td>\n",
              "      <td>936.0</td>\n",
              "      <td>7.9</td>\n",
              "      <td>2009.0</td>\n",
              "    </tr>\n",
              "    <tr>\n",
              "      <th>1</th>\n",
              "      <td>Pirates of the Caribbean: At World's End??</td>\n",
              "      <td>302</td>\n",
              "      <td>152.848837</td>\n",
              "      <td>563</td>\n",
              "      <td>1000</td>\n",
              "      <td>40000</td>\n",
              "      <td>309404152</td>\n",
              "      <td>471220.0</td>\n",
              "      <td>48350.0</td>\n",
              "      <td>0.0</td>\n",
              "      <td>1238</td>\n",
              "      <td>300000000</td>\n",
              "      <td>2007</td>\n",
              "      <td>5000.0</td>\n",
              "      <td>7.1</td>\n",
              "      <td>0.0</td>\n",
              "    </tr>\n",
              "    <tr>\n",
              "      <th>2</th>\n",
              "      <td>Spectre??</td>\n",
              "      <td>602</td>\n",
              "      <td>148.000000</td>\n",
              "      <td>20</td>\n",
              "      <td>161</td>\n",
              "      <td>11000</td>\n",
              "      <td>200074175</td>\n",
              "      <td>275868.0</td>\n",
              "      <td>11700.0</td>\n",
              "      <td>1.0</td>\n",
              "      <td>994</td>\n",
              "      <td>245000000</td>\n",
              "      <td>2015</td>\n",
              "      <td>393.0</td>\n",
              "      <td>6.8</td>\n",
              "      <td>2015.0</td>\n",
              "    </tr>\n",
              "    <tr>\n",
              "      <th>3</th>\n",
              "      <td>The Dark Knight Rises??</td>\n",
              "      <td>813</td>\n",
              "      <td>152.848837</td>\n",
              "      <td>22000</td>\n",
              "      <td>23000</td>\n",
              "      <td>27000</td>\n",
              "      <td>448130642</td>\n",
              "      <td>1144337.0</td>\n",
              "      <td>106759.0</td>\n",
              "      <td>0.0</td>\n",
              "      <td>2701</td>\n",
              "      <td>250000000</td>\n",
              "      <td>2012</td>\n",
              "      <td>23000.0</td>\n",
              "      <td>8.5</td>\n",
              "      <td>0.0</td>\n",
              "    </tr>\n",
              "    <tr>\n",
              "      <th>4</th>\n",
              "      <td>John Carter??</td>\n",
              "      <td>462</td>\n",
              "      <td>132.000000</td>\n",
              "      <td>\"475\"</td>\n",
              "      <td>530</td>\n",
              "      <td>640</td>\n",
              "      <td>73058679</td>\n",
              "      <td>212204.0</td>\n",
              "      <td>1873.0</td>\n",
              "      <td>1.0</td>\n",
              "      <td>738</td>\n",
              "      <td>263700000</td>\n",
              "      <td>2012</td>\n",
              "      <td>632.0</td>\n",
              "      <td>6.6</td>\n",
              "      <td>0.0</td>\n",
              "    </tr>\n",
              "  </tbody>\n",
              "</table>\n",
              "</div>"
            ],
            "text/plain": [
              "                                  MOVIE_TITLE  ...  RE_RELEASE_YEAR\n",
              "0                                    Avatar??  ...           2009.0\n",
              "1  Pirates of the Caribbean: At World's End??  ...              0.0\n",
              "2                                   Spectre??  ...           2015.0\n",
              "3                     The Dark Knight Rises??  ...              0.0\n",
              "4                               John Carter??  ...              0.0\n",
              "\n",
              "[5 rows x 16 columns]"
            ]
          },
          "metadata": {},
          "execution_count": 80
        }
      ]
    },
    {
      "cell_type": "markdown",
      "metadata": {
        "id": "y7Yhzn4PYq49"
      },
      "source": [
        "Remove duplicates"
      ]
    },
    {
      "cell_type": "code",
      "metadata": {
        "colab": {
          "base_uri": "https://localhost:8080/"
        },
        "id": "ZX6i-8TeYtLz",
        "outputId": "5c1e8016-9653-4d39-e304-5daf76a53e86"
      },
      "source": [
        "df.duplicated().any()"
      ],
      "execution_count": 81,
      "outputs": [
        {
          "output_type": "execute_result",
          "data": {
            "text/plain": [
              "False"
            ]
          },
          "metadata": {},
          "execution_count": 81
        }
      ]
    },
    {
      "cell_type": "markdown",
      "metadata": {
        "id": "PZ4-UGGrl6dY"
      },
      "source": [
        "Removal of unwanted strings from movie name"
      ]
    },
    {
      "cell_type": "code",
      "metadata": {
        "colab": {
          "base_uri": "https://localhost:8080/"
        },
        "id": "uoiHnBbvl-7m",
        "outputId": "bf53a776-3ffc-494c-c929-fa6f9e54798b"
      },
      "source": [
        "df['MOVIE_TITLE']"
      ],
      "execution_count": 82,
      "outputs": [
        {
          "output_type": "execute_result",
          "data": {
            "text/plain": [
              "0                                        Avatar??\n",
              "1      Pirates of the Caribbean: At World's End??\n",
              "2                                       Spectre??\n",
              "3                         The Dark Knight Rises??\n",
              "4                                   John Carter??\n",
              "                          ...                    \n",
              "107                                    His Girl??\n",
              "108                                      Friday??\n",
              "109                                      Carrie??\n",
              "110                                        Jaws??\n",
              "111                                       Rocky??\n",
              "Name: MOVIE_TITLE, Length: 110, dtype: object"
            ]
          },
          "metadata": {},
          "execution_count": 82
        }
      ]
    },
    {
      "cell_type": "code",
      "metadata": {
        "colab": {
          "base_uri": "https://localhost:8080/",
          "height": 555
        },
        "id": "2UukWRYmmmPr",
        "outputId": "b27f93cd-9b56-4e34-fa18-320a1d93420a"
      },
      "source": [
        "df['MOVIE_TITLE'] = df.MOVIE_TITLE.apply(lambda x: x.replace(\"??\", \" \")).astype(\"str\")\n",
        "df.head(10)"
      ],
      "execution_count": 83,
      "outputs": [
        {
          "output_type": "execute_result",
          "data": {
            "text/html": [
              "<div>\n",
              "<style scoped>\n",
              "    .dataframe tbody tr th:only-of-type {\n",
              "        vertical-align: middle;\n",
              "    }\n",
              "\n",
              "    .dataframe tbody tr th {\n",
              "        vertical-align: top;\n",
              "    }\n",
              "\n",
              "    .dataframe thead th {\n",
              "        text-align: right;\n",
              "    }\n",
              "</style>\n",
              "<table border=\"1\" class=\"dataframe\">\n",
              "  <thead>\n",
              "    <tr style=\"text-align: right;\">\n",
              "      <th></th>\n",
              "      <th>MOVIE_TITLE</th>\n",
              "      <th>NUM_CRITIC_FOR_REVIEWS</th>\n",
              "      <th>TIME</th>\n",
              "      <th>DIRECTOR_FACEBOOK_LIKES</th>\n",
              "      <th>ACTOR_3_FACEBOOK_LIKES</th>\n",
              "      <th>ACTOR_1_FACEBOOK_LIKES</th>\n",
              "      <th>TOTAL</th>\n",
              "      <th>NUM_VOTED_USERS</th>\n",
              "      <th>CAST_TOTAL_FACEBOOK_LIKES</th>\n",
              "      <th>FACENUMBER_IN_POSTER</th>\n",
              "      <th>NUM_USER_FOR_REVIEWS</th>\n",
              "      <th>BUDGET</th>\n",
              "      <th>RELEASE_YEAR</th>\n",
              "      <th>ACTOR_2_FACEBOOK_LIKES</th>\n",
              "      <th>RATING</th>\n",
              "      <th>RE_RELEASE_YEAR</th>\n",
              "    </tr>\n",
              "  </thead>\n",
              "  <tbody>\n",
              "    <tr>\n",
              "      <th>0</th>\n",
              "      <td>Avatar</td>\n",
              "      <td>723</td>\n",
              "      <td>178.000000</td>\n",
              "      <td>10</td>\n",
              "      <td>855</td>\n",
              "      <td>1000</td>\n",
              "      <td>760505847</td>\n",
              "      <td>886204.0</td>\n",
              "      <td>4834.0</td>\n",
              "      <td>0.0</td>\n",
              "      <td>3054</td>\n",
              "      <td>237000000</td>\n",
              "      <td>2009</td>\n",
              "      <td>936.0</td>\n",
              "      <td>7.9</td>\n",
              "      <td>2009.0</td>\n",
              "    </tr>\n",
              "    <tr>\n",
              "      <th>1</th>\n",
              "      <td>Pirates of the Caribbean: At World's End</td>\n",
              "      <td>302</td>\n",
              "      <td>152.848837</td>\n",
              "      <td>563</td>\n",
              "      <td>1000</td>\n",
              "      <td>40000</td>\n",
              "      <td>309404152</td>\n",
              "      <td>471220.0</td>\n",
              "      <td>48350.0</td>\n",
              "      <td>0.0</td>\n",
              "      <td>1238</td>\n",
              "      <td>300000000</td>\n",
              "      <td>2007</td>\n",
              "      <td>5000.0</td>\n",
              "      <td>7.1</td>\n",
              "      <td>0.0</td>\n",
              "    </tr>\n",
              "    <tr>\n",
              "      <th>2</th>\n",
              "      <td>Spectre</td>\n",
              "      <td>602</td>\n",
              "      <td>148.000000</td>\n",
              "      <td>20</td>\n",
              "      <td>161</td>\n",
              "      <td>11000</td>\n",
              "      <td>200074175</td>\n",
              "      <td>275868.0</td>\n",
              "      <td>11700.0</td>\n",
              "      <td>1.0</td>\n",
              "      <td>994</td>\n",
              "      <td>245000000</td>\n",
              "      <td>2015</td>\n",
              "      <td>393.0</td>\n",
              "      <td>6.8</td>\n",
              "      <td>2015.0</td>\n",
              "    </tr>\n",
              "    <tr>\n",
              "      <th>3</th>\n",
              "      <td>The Dark Knight Rises</td>\n",
              "      <td>813</td>\n",
              "      <td>152.848837</td>\n",
              "      <td>22000</td>\n",
              "      <td>23000</td>\n",
              "      <td>27000</td>\n",
              "      <td>448130642</td>\n",
              "      <td>1144337.0</td>\n",
              "      <td>106759.0</td>\n",
              "      <td>0.0</td>\n",
              "      <td>2701</td>\n",
              "      <td>250000000</td>\n",
              "      <td>2012</td>\n",
              "      <td>23000.0</td>\n",
              "      <td>8.5</td>\n",
              "      <td>0.0</td>\n",
              "    </tr>\n",
              "    <tr>\n",
              "      <th>4</th>\n",
              "      <td>John Carter</td>\n",
              "      <td>462</td>\n",
              "      <td>132.000000</td>\n",
              "      <td>\"475\"</td>\n",
              "      <td>530</td>\n",
              "      <td>640</td>\n",
              "      <td>73058679</td>\n",
              "      <td>212204.0</td>\n",
              "      <td>1873.0</td>\n",
              "      <td>1.0</td>\n",
              "      <td>738</td>\n",
              "      <td>263700000</td>\n",
              "      <td>2012</td>\n",
              "      <td>632.0</td>\n",
              "      <td>6.6</td>\n",
              "      <td>0.0</td>\n",
              "    </tr>\n",
              "    <tr>\n",
              "      <th>5</th>\n",
              "      <td>Spider-Man 3</td>\n",
              "      <td>392</td>\n",
              "      <td>156.000000</td>\n",
              "      <td>23</td>\n",
              "      <td>4000</td>\n",
              "      <td>24000</td>\n",
              "      <td>336530303</td>\n",
              "      <td>383056.0</td>\n",
              "      <td>46055.0</td>\n",
              "      <td>0.0</td>\n",
              "      <td>1902</td>\n",
              "      <td>258000000</td>\n",
              "      <td>2007</td>\n",
              "      <td>11000.0</td>\n",
              "      <td>6.2</td>\n",
              "      <td>2007.0</td>\n",
              "    </tr>\n",
              "    <tr>\n",
              "      <th>6</th>\n",
              "      <td>Tangled</td>\n",
              "      <td>324</td>\n",
              "      <td>152.848837</td>\n",
              "      <td>15</td>\n",
              "      <td>284</td>\n",
              "      <td>799</td>\n",
              "      <td>200807262</td>\n",
              "      <td>294810.0</td>\n",
              "      <td>0.0</td>\n",
              "      <td>1.0</td>\n",
              "      <td>387</td>\n",
              "      <td>260000000</td>\n",
              "      <td>2010</td>\n",
              "      <td>553.0</td>\n",
              "      <td>7.8</td>\n",
              "      <td>0.0</td>\n",
              "    </tr>\n",
              "    <tr>\n",
              "      <th>7</th>\n",
              "      <td>Avengers: Age of Ultron</td>\n",
              "      <td>635</td>\n",
              "      <td>141.000000</td>\n",
              "      <td>10</td>\n",
              "      <td>19000</td>\n",
              "      <td>26000</td>\n",
              "      <td>458991599</td>\n",
              "      <td>462669.0</td>\n",
              "      <td>92000.0</td>\n",
              "      <td>4.0</td>\n",
              "      <td>1117</td>\n",
              "      <td>250000000</td>\n",
              "      <td>2015</td>\n",
              "      <td>21000.0</td>\n",
              "      <td>7.5</td>\n",
              "      <td>0.0</td>\n",
              "    </tr>\n",
              "    <tr>\n",
              "      <th>9</th>\n",
              "      <td>Harry Potter and the Half-Blood Prince</td>\n",
              "      <td>375</td>\n",
              "      <td>153.000000</td>\n",
              "      <td>282</td>\n",
              "      <td>10000</td>\n",
              "      <td>25000</td>\n",
              "      <td>301956980</td>\n",
              "      <td>321795.0</td>\n",
              "      <td>58753.0</td>\n",
              "      <td>3.0</td>\n",
              "      <td>973</td>\n",
              "      <td>250000000</td>\n",
              "      <td>2009</td>\n",
              "      <td>11000.0</td>\n",
              "      <td>7.5</td>\n",
              "      <td>0.0</td>\n",
              "    </tr>\n",
              "    <tr>\n",
              "      <th>10</th>\n",
              "      <td>Batman v Superman: Dawn of Justice</td>\n",
              "      <td>673</td>\n",
              "      <td>183.000000</td>\n",
              "      <td>0</td>\n",
              "      <td>2000</td>\n",
              "      <td>15000</td>\n",
              "      <td>330249062</td>\n",
              "      <td>0.0</td>\n",
              "      <td>24450.0</td>\n",
              "      <td>0.0</td>\n",
              "      <td>3018</td>\n",
              "      <td>250000000</td>\n",
              "      <td>2016</td>\n",
              "      <td>0.0</td>\n",
              "      <td>6.9</td>\n",
              "      <td>2016.0</td>\n",
              "    </tr>\n",
              "  </tbody>\n",
              "</table>\n",
              "</div>"
            ],
            "text/plain": [
              "                                  MOVIE_TITLE  ...  RE_RELEASE_YEAR\n",
              "0                                     Avatar   ...           2009.0\n",
              "1   Pirates of the Caribbean: At World's End   ...              0.0\n",
              "2                                    Spectre   ...           2015.0\n",
              "3                      The Dark Knight Rises   ...              0.0\n",
              "4                                John Carter   ...              0.0\n",
              "5                               Spider-Man 3   ...           2007.0\n",
              "6                                    Tangled   ...              0.0\n",
              "7                    Avengers: Age of Ultron   ...              0.0\n",
              "9     Harry Potter and the Half-Blood Prince   ...              0.0\n",
              "10        Batman v Superman: Dawn of Justice   ...           2016.0\n",
              "\n",
              "[10 rows x 16 columns]"
            ]
          },
          "metadata": {},
          "execution_count": 83
        }
      ]
    },
    {
      "cell_type": "markdown",
      "metadata": {
        "id": "eivI_8jLwOox"
      },
      "source": [
        "Remove unwanted strings from column DIRECTOR_FACEBOOK_LIKES"
      ]
    },
    {
      "cell_type": "code",
      "metadata": {
        "colab": {
          "base_uri": "https://localhost:8080/",
          "height": 555
        },
        "id": "XyMLvxK4pxE8",
        "outputId": "a69427d6-d49f-4de3-e1eb-f5ac27fbedb7"
      },
      "source": [
        "df['DIRECTOR_FACEBOOK_LIKES'] = df.DIRECTOR_FACEBOOK_LIKES.str.replace(\"\\\"\", \" \")\n",
        "df.head(10)"
      ],
      "execution_count": 84,
      "outputs": [
        {
          "output_type": "execute_result",
          "data": {
            "text/html": [
              "<div>\n",
              "<style scoped>\n",
              "    .dataframe tbody tr th:only-of-type {\n",
              "        vertical-align: middle;\n",
              "    }\n",
              "\n",
              "    .dataframe tbody tr th {\n",
              "        vertical-align: top;\n",
              "    }\n",
              "\n",
              "    .dataframe thead th {\n",
              "        text-align: right;\n",
              "    }\n",
              "</style>\n",
              "<table border=\"1\" class=\"dataframe\">\n",
              "  <thead>\n",
              "    <tr style=\"text-align: right;\">\n",
              "      <th></th>\n",
              "      <th>MOVIE_TITLE</th>\n",
              "      <th>NUM_CRITIC_FOR_REVIEWS</th>\n",
              "      <th>TIME</th>\n",
              "      <th>DIRECTOR_FACEBOOK_LIKES</th>\n",
              "      <th>ACTOR_3_FACEBOOK_LIKES</th>\n",
              "      <th>ACTOR_1_FACEBOOK_LIKES</th>\n",
              "      <th>TOTAL</th>\n",
              "      <th>NUM_VOTED_USERS</th>\n",
              "      <th>CAST_TOTAL_FACEBOOK_LIKES</th>\n",
              "      <th>FACENUMBER_IN_POSTER</th>\n",
              "      <th>NUM_USER_FOR_REVIEWS</th>\n",
              "      <th>BUDGET</th>\n",
              "      <th>RELEASE_YEAR</th>\n",
              "      <th>ACTOR_2_FACEBOOK_LIKES</th>\n",
              "      <th>RATING</th>\n",
              "      <th>RE_RELEASE_YEAR</th>\n",
              "    </tr>\n",
              "  </thead>\n",
              "  <tbody>\n",
              "    <tr>\n",
              "      <th>0</th>\n",
              "      <td>Avatar</td>\n",
              "      <td>723</td>\n",
              "      <td>178.000000</td>\n",
              "      <td>10</td>\n",
              "      <td>855</td>\n",
              "      <td>1000</td>\n",
              "      <td>760505847</td>\n",
              "      <td>886204.0</td>\n",
              "      <td>4834.0</td>\n",
              "      <td>0.0</td>\n",
              "      <td>3054</td>\n",
              "      <td>237000000</td>\n",
              "      <td>2009</td>\n",
              "      <td>936.0</td>\n",
              "      <td>7.9</td>\n",
              "      <td>2009.0</td>\n",
              "    </tr>\n",
              "    <tr>\n",
              "      <th>1</th>\n",
              "      <td>Pirates of the Caribbean: At World's End</td>\n",
              "      <td>302</td>\n",
              "      <td>152.848837</td>\n",
              "      <td>563</td>\n",
              "      <td>1000</td>\n",
              "      <td>40000</td>\n",
              "      <td>309404152</td>\n",
              "      <td>471220.0</td>\n",
              "      <td>48350.0</td>\n",
              "      <td>0.0</td>\n",
              "      <td>1238</td>\n",
              "      <td>300000000</td>\n",
              "      <td>2007</td>\n",
              "      <td>5000.0</td>\n",
              "      <td>7.1</td>\n",
              "      <td>0.0</td>\n",
              "    </tr>\n",
              "    <tr>\n",
              "      <th>2</th>\n",
              "      <td>Spectre</td>\n",
              "      <td>602</td>\n",
              "      <td>148.000000</td>\n",
              "      <td>20</td>\n",
              "      <td>161</td>\n",
              "      <td>11000</td>\n",
              "      <td>200074175</td>\n",
              "      <td>275868.0</td>\n",
              "      <td>11700.0</td>\n",
              "      <td>1.0</td>\n",
              "      <td>994</td>\n",
              "      <td>245000000</td>\n",
              "      <td>2015</td>\n",
              "      <td>393.0</td>\n",
              "      <td>6.8</td>\n",
              "      <td>2015.0</td>\n",
              "    </tr>\n",
              "    <tr>\n",
              "      <th>3</th>\n",
              "      <td>The Dark Knight Rises</td>\n",
              "      <td>813</td>\n",
              "      <td>152.848837</td>\n",
              "      <td>22000</td>\n",
              "      <td>23000</td>\n",
              "      <td>27000</td>\n",
              "      <td>448130642</td>\n",
              "      <td>1144337.0</td>\n",
              "      <td>106759.0</td>\n",
              "      <td>0.0</td>\n",
              "      <td>2701</td>\n",
              "      <td>250000000</td>\n",
              "      <td>2012</td>\n",
              "      <td>23000.0</td>\n",
              "      <td>8.5</td>\n",
              "      <td>0.0</td>\n",
              "    </tr>\n",
              "    <tr>\n",
              "      <th>4</th>\n",
              "      <td>John Carter</td>\n",
              "      <td>462</td>\n",
              "      <td>132.000000</td>\n",
              "      <td>475</td>\n",
              "      <td>530</td>\n",
              "      <td>640</td>\n",
              "      <td>73058679</td>\n",
              "      <td>212204.0</td>\n",
              "      <td>1873.0</td>\n",
              "      <td>1.0</td>\n",
              "      <td>738</td>\n",
              "      <td>263700000</td>\n",
              "      <td>2012</td>\n",
              "      <td>632.0</td>\n",
              "      <td>6.6</td>\n",
              "      <td>0.0</td>\n",
              "    </tr>\n",
              "    <tr>\n",
              "      <th>5</th>\n",
              "      <td>Spider-Man 3</td>\n",
              "      <td>392</td>\n",
              "      <td>156.000000</td>\n",
              "      <td>23</td>\n",
              "      <td>4000</td>\n",
              "      <td>24000</td>\n",
              "      <td>336530303</td>\n",
              "      <td>383056.0</td>\n",
              "      <td>46055.0</td>\n",
              "      <td>0.0</td>\n",
              "      <td>1902</td>\n",
              "      <td>258000000</td>\n",
              "      <td>2007</td>\n",
              "      <td>11000.0</td>\n",
              "      <td>6.2</td>\n",
              "      <td>2007.0</td>\n",
              "    </tr>\n",
              "    <tr>\n",
              "      <th>6</th>\n",
              "      <td>Tangled</td>\n",
              "      <td>324</td>\n",
              "      <td>152.848837</td>\n",
              "      <td>15</td>\n",
              "      <td>284</td>\n",
              "      <td>799</td>\n",
              "      <td>200807262</td>\n",
              "      <td>294810.0</td>\n",
              "      <td>0.0</td>\n",
              "      <td>1.0</td>\n",
              "      <td>387</td>\n",
              "      <td>260000000</td>\n",
              "      <td>2010</td>\n",
              "      <td>553.0</td>\n",
              "      <td>7.8</td>\n",
              "      <td>0.0</td>\n",
              "    </tr>\n",
              "    <tr>\n",
              "      <th>7</th>\n",
              "      <td>Avengers: Age of Ultron</td>\n",
              "      <td>635</td>\n",
              "      <td>141.000000</td>\n",
              "      <td>10</td>\n",
              "      <td>19000</td>\n",
              "      <td>26000</td>\n",
              "      <td>458991599</td>\n",
              "      <td>462669.0</td>\n",
              "      <td>92000.0</td>\n",
              "      <td>4.0</td>\n",
              "      <td>1117</td>\n",
              "      <td>250000000</td>\n",
              "      <td>2015</td>\n",
              "      <td>21000.0</td>\n",
              "      <td>7.5</td>\n",
              "      <td>0.0</td>\n",
              "    </tr>\n",
              "    <tr>\n",
              "      <th>9</th>\n",
              "      <td>Harry Potter and the Half-Blood Prince</td>\n",
              "      <td>375</td>\n",
              "      <td>153.000000</td>\n",
              "      <td>282</td>\n",
              "      <td>10000</td>\n",
              "      <td>25000</td>\n",
              "      <td>301956980</td>\n",
              "      <td>321795.0</td>\n",
              "      <td>58753.0</td>\n",
              "      <td>3.0</td>\n",
              "      <td>973</td>\n",
              "      <td>250000000</td>\n",
              "      <td>2009</td>\n",
              "      <td>11000.0</td>\n",
              "      <td>7.5</td>\n",
              "      <td>0.0</td>\n",
              "    </tr>\n",
              "    <tr>\n",
              "      <th>10</th>\n",
              "      <td>Batman v Superman: Dawn of Justice</td>\n",
              "      <td>673</td>\n",
              "      <td>183.000000</td>\n",
              "      <td>NaN</td>\n",
              "      <td>2000</td>\n",
              "      <td>15000</td>\n",
              "      <td>330249062</td>\n",
              "      <td>0.0</td>\n",
              "      <td>24450.0</td>\n",
              "      <td>0.0</td>\n",
              "      <td>3018</td>\n",
              "      <td>250000000</td>\n",
              "      <td>2016</td>\n",
              "      <td>0.0</td>\n",
              "      <td>6.9</td>\n",
              "      <td>2016.0</td>\n",
              "    </tr>\n",
              "  </tbody>\n",
              "</table>\n",
              "</div>"
            ],
            "text/plain": [
              "                                  MOVIE_TITLE  ...  RE_RELEASE_YEAR\n",
              "0                                     Avatar   ...           2009.0\n",
              "1   Pirates of the Caribbean: At World's End   ...              0.0\n",
              "2                                    Spectre   ...           2015.0\n",
              "3                      The Dark Knight Rises   ...              0.0\n",
              "4                                John Carter   ...              0.0\n",
              "5                               Spider-Man 3   ...           2007.0\n",
              "6                                    Tangled   ...              0.0\n",
              "7                    Avengers: Age of Ultron   ...              0.0\n",
              "9     Harry Potter and the Half-Blood Prince   ...              0.0\n",
              "10        Batman v Superman: Dawn of Justice   ...           2016.0\n",
              "\n",
              "[10 rows x 16 columns]"
            ]
          },
          "metadata": {},
          "execution_count": 84
        }
      ]
    },
    {
      "cell_type": "markdown",
      "metadata": {
        "id": "lda3HRyeyRw3"
      },
      "source": [
        "Drop the column RE_RELEASE_YEAR as we already have RELEASE_YEAR Column"
      ]
    },
    {
      "cell_type": "code",
      "metadata": {
        "id": "rcK9p5YVzbzG"
      },
      "source": [
        "df = df.drop('RE_RELEASE_YEAR',axis=1)"
      ],
      "execution_count": 85,
      "outputs": []
    },
    {
      "cell_type": "code",
      "metadata": {
        "colab": {
          "base_uri": "https://localhost:8080/",
          "height": 295
        },
        "id": "RSWsXEQ3zhx-",
        "outputId": "45f185b2-ad6a-4f85-8c18-8a766412cdd6"
      },
      "source": [
        "df.head()"
      ],
      "execution_count": 86,
      "outputs": [
        {
          "output_type": "execute_result",
          "data": {
            "text/html": [
              "<div>\n",
              "<style scoped>\n",
              "    .dataframe tbody tr th:only-of-type {\n",
              "        vertical-align: middle;\n",
              "    }\n",
              "\n",
              "    .dataframe tbody tr th {\n",
              "        vertical-align: top;\n",
              "    }\n",
              "\n",
              "    .dataframe thead th {\n",
              "        text-align: right;\n",
              "    }\n",
              "</style>\n",
              "<table border=\"1\" class=\"dataframe\">\n",
              "  <thead>\n",
              "    <tr style=\"text-align: right;\">\n",
              "      <th></th>\n",
              "      <th>MOVIE_TITLE</th>\n",
              "      <th>NUM_CRITIC_FOR_REVIEWS</th>\n",
              "      <th>TIME</th>\n",
              "      <th>DIRECTOR_FACEBOOK_LIKES</th>\n",
              "      <th>ACTOR_3_FACEBOOK_LIKES</th>\n",
              "      <th>ACTOR_1_FACEBOOK_LIKES</th>\n",
              "      <th>TOTAL</th>\n",
              "      <th>NUM_VOTED_USERS</th>\n",
              "      <th>CAST_TOTAL_FACEBOOK_LIKES</th>\n",
              "      <th>FACENUMBER_IN_POSTER</th>\n",
              "      <th>NUM_USER_FOR_REVIEWS</th>\n",
              "      <th>BUDGET</th>\n",
              "      <th>RELEASE_YEAR</th>\n",
              "      <th>ACTOR_2_FACEBOOK_LIKES</th>\n",
              "      <th>RATING</th>\n",
              "    </tr>\n",
              "  </thead>\n",
              "  <tbody>\n",
              "    <tr>\n",
              "      <th>0</th>\n",
              "      <td>Avatar</td>\n",
              "      <td>723</td>\n",
              "      <td>178.000000</td>\n",
              "      <td>10</td>\n",
              "      <td>855</td>\n",
              "      <td>1000</td>\n",
              "      <td>760505847</td>\n",
              "      <td>886204.0</td>\n",
              "      <td>4834.0</td>\n",
              "      <td>0.0</td>\n",
              "      <td>3054</td>\n",
              "      <td>237000000</td>\n",
              "      <td>2009</td>\n",
              "      <td>936.0</td>\n",
              "      <td>7.9</td>\n",
              "    </tr>\n",
              "    <tr>\n",
              "      <th>1</th>\n",
              "      <td>Pirates of the Caribbean: At World's End</td>\n",
              "      <td>302</td>\n",
              "      <td>152.848837</td>\n",
              "      <td>563</td>\n",
              "      <td>1000</td>\n",
              "      <td>40000</td>\n",
              "      <td>309404152</td>\n",
              "      <td>471220.0</td>\n",
              "      <td>48350.0</td>\n",
              "      <td>0.0</td>\n",
              "      <td>1238</td>\n",
              "      <td>300000000</td>\n",
              "      <td>2007</td>\n",
              "      <td>5000.0</td>\n",
              "      <td>7.1</td>\n",
              "    </tr>\n",
              "    <tr>\n",
              "      <th>2</th>\n",
              "      <td>Spectre</td>\n",
              "      <td>602</td>\n",
              "      <td>148.000000</td>\n",
              "      <td>20</td>\n",
              "      <td>161</td>\n",
              "      <td>11000</td>\n",
              "      <td>200074175</td>\n",
              "      <td>275868.0</td>\n",
              "      <td>11700.0</td>\n",
              "      <td>1.0</td>\n",
              "      <td>994</td>\n",
              "      <td>245000000</td>\n",
              "      <td>2015</td>\n",
              "      <td>393.0</td>\n",
              "      <td>6.8</td>\n",
              "    </tr>\n",
              "    <tr>\n",
              "      <th>3</th>\n",
              "      <td>The Dark Knight Rises</td>\n",
              "      <td>813</td>\n",
              "      <td>152.848837</td>\n",
              "      <td>22000</td>\n",
              "      <td>23000</td>\n",
              "      <td>27000</td>\n",
              "      <td>448130642</td>\n",
              "      <td>1144337.0</td>\n",
              "      <td>106759.0</td>\n",
              "      <td>0.0</td>\n",
              "      <td>2701</td>\n",
              "      <td>250000000</td>\n",
              "      <td>2012</td>\n",
              "      <td>23000.0</td>\n",
              "      <td>8.5</td>\n",
              "    </tr>\n",
              "    <tr>\n",
              "      <th>4</th>\n",
              "      <td>John Carter</td>\n",
              "      <td>462</td>\n",
              "      <td>132.000000</td>\n",
              "      <td>475</td>\n",
              "      <td>530</td>\n",
              "      <td>640</td>\n",
              "      <td>73058679</td>\n",
              "      <td>212204.0</td>\n",
              "      <td>1873.0</td>\n",
              "      <td>1.0</td>\n",
              "      <td>738</td>\n",
              "      <td>263700000</td>\n",
              "      <td>2012</td>\n",
              "      <td>632.0</td>\n",
              "      <td>6.6</td>\n",
              "    </tr>\n",
              "  </tbody>\n",
              "</table>\n",
              "</div>"
            ],
            "text/plain": [
              "                                 MOVIE_TITLE  ...  RATING\n",
              "0                                    Avatar   ...     7.9\n",
              "1  Pirates of the Caribbean: At World's End   ...     7.1\n",
              "2                                   Spectre   ...     6.8\n",
              "3                     The Dark Knight Rises   ...     8.5\n",
              "4                               John Carter   ...     6.6\n",
              "\n",
              "[5 rows x 15 columns]"
            ]
          },
          "metadata": {},
          "execution_count": 86
        }
      ]
    },
    {
      "cell_type": "markdown",
      "metadata": {
        "id": "Nm5TdXYa7xQT"
      },
      "source": [
        "Now From the Plot We will identify the outliers.\n",
        "Plot a graph for Movie rating and identify the outlier"
      ]
    },
    {
      "cell_type": "code",
      "metadata": {
        "colab": {
          "base_uri": "https://localhost:8080/",
          "height": 264
        },
        "id": "ZwAyYh4PJxlY",
        "outputId": "bb38545b-2ae0-4552-e346-a521e160add1"
      },
      "source": [
        "prefer = df.loc[df['RATING']>7.0].count()[0]\n",
        "notprefer = df.loc[df['RATING']<7.0].count()[0]\n",
        "labels= ['prefer', 'notprefer']\n",
        "plt.title('Movie Preference')\n",
        "plt.pie([prefer, notprefer], labels=labels)\n",
        "plt.show()"
      ],
      "execution_count": 87,
      "outputs": [
        {
          "output_type": "display_data",
          "data": {
            "image/png": "[encoded data removed]",
            "text/plain": [
              "<Figure size 432x288 with 1 Axes>"
            ]
          },
          "metadata": {}
        }
      ]
    },
    {
      "cell_type": "markdown",
      "metadata": {
        "id": "MxTtzcHMFee6"
      },
      "source": [
        "Now we can Keep the movies whose rating is Greater than 7"
      ]
    },
    {
      "cell_type": "code",
      "metadata": {
        "colab": {
          "base_uri": "https://localhost:8080/",
          "height": 312
        },
        "id": "2qlll-ZFFj5t",
        "outputId": "459611da-5135-4812-addd-5acfb2a427ef"
      },
      "source": [
        "df = df.loc[df['RATING']>7.0,:]\n",
        "df.head()"
      ],
      "execution_count": 88,
      "outputs": [
        {
          "output_type": "execute_result",
          "data": {
            "text/html": [
              "<div>\n",
              "<style scoped>\n",
              "    .dataframe tbody tr th:only-of-type {\n",
              "        vertical-align: middle;\n",
              "    }\n",
              "\n",
              "    .dataframe tbody tr th {\n",
              "        vertical-align: top;\n",
              "    }\n",
              "\n",
              "    .dataframe thead th {\n",
              "        text-align: right;\n",
              "    }\n",
              "</style>\n",
              "<table border=\"1\" class=\"dataframe\">\n",
              "  <thead>\n",
              "    <tr style=\"text-align: right;\">\n",
              "      <th></th>\n",
              "      <th>MOVIE_TITLE</th>\n",
              "      <th>NUM_CRITIC_FOR_REVIEWS</th>\n",
              "      <th>TIME</th>\n",
              "      <th>DIRECTOR_FACEBOOK_LIKES</th>\n",
              "      <th>ACTOR_3_FACEBOOK_LIKES</th>\n",
              "      <th>ACTOR_1_FACEBOOK_LIKES</th>\n",
              "      <th>TOTAL</th>\n",
              "      <th>NUM_VOTED_USERS</th>\n",
              "      <th>CAST_TOTAL_FACEBOOK_LIKES</th>\n",
              "      <th>FACENUMBER_IN_POSTER</th>\n",
              "      <th>NUM_USER_FOR_REVIEWS</th>\n",
              "      <th>BUDGET</th>\n",
              "      <th>RELEASE_YEAR</th>\n",
              "      <th>ACTOR_2_FACEBOOK_LIKES</th>\n",
              "      <th>RATING</th>\n",
              "    </tr>\n",
              "  </thead>\n",
              "  <tbody>\n",
              "    <tr>\n",
              "      <th>0</th>\n",
              "      <td>Avatar</td>\n",
              "      <td>723</td>\n",
              "      <td>178.000000</td>\n",
              "      <td>10</td>\n",
              "      <td>855</td>\n",
              "      <td>1000</td>\n",
              "      <td>760505847</td>\n",
              "      <td>886204.0</td>\n",
              "      <td>4834.0</td>\n",
              "      <td>0.0</td>\n",
              "      <td>3054</td>\n",
              "      <td>237000000</td>\n",
              "      <td>2009</td>\n",
              "      <td>936.0</td>\n",
              "      <td>7.9</td>\n",
              "    </tr>\n",
              "    <tr>\n",
              "      <th>1</th>\n",
              "      <td>Pirates of the Caribbean: At World's End</td>\n",
              "      <td>302</td>\n",
              "      <td>152.848837</td>\n",
              "      <td>563</td>\n",
              "      <td>1000</td>\n",
              "      <td>40000</td>\n",
              "      <td>309404152</td>\n",
              "      <td>471220.0</td>\n",
              "      <td>48350.0</td>\n",
              "      <td>0.0</td>\n",
              "      <td>1238</td>\n",
              "      <td>300000000</td>\n",
              "      <td>2007</td>\n",
              "      <td>5000.0</td>\n",
              "      <td>7.1</td>\n",
              "    </tr>\n",
              "    <tr>\n",
              "      <th>3</th>\n",
              "      <td>The Dark Knight Rises</td>\n",
              "      <td>813</td>\n",
              "      <td>152.848837</td>\n",
              "      <td>22000</td>\n",
              "      <td>23000</td>\n",
              "      <td>27000</td>\n",
              "      <td>448130642</td>\n",
              "      <td>1144337.0</td>\n",
              "      <td>106759.0</td>\n",
              "      <td>0.0</td>\n",
              "      <td>2701</td>\n",
              "      <td>250000000</td>\n",
              "      <td>2012</td>\n",
              "      <td>23000.0</td>\n",
              "      <td>8.5</td>\n",
              "    </tr>\n",
              "    <tr>\n",
              "      <th>6</th>\n",
              "      <td>Tangled</td>\n",
              "      <td>324</td>\n",
              "      <td>152.848837</td>\n",
              "      <td>15</td>\n",
              "      <td>284</td>\n",
              "      <td>799</td>\n",
              "      <td>200807262</td>\n",
              "      <td>294810.0</td>\n",
              "      <td>0.0</td>\n",
              "      <td>1.0</td>\n",
              "      <td>387</td>\n",
              "      <td>260000000</td>\n",
              "      <td>2010</td>\n",
              "      <td>553.0</td>\n",
              "      <td>7.8</td>\n",
              "    </tr>\n",
              "    <tr>\n",
              "      <th>7</th>\n",
              "      <td>Avengers: Age of Ultron</td>\n",
              "      <td>635</td>\n",
              "      <td>141.000000</td>\n",
              "      <td>10</td>\n",
              "      <td>19000</td>\n",
              "      <td>26000</td>\n",
              "      <td>458991599</td>\n",
              "      <td>462669.0</td>\n",
              "      <td>92000.0</td>\n",
              "      <td>4.0</td>\n",
              "      <td>1117</td>\n",
              "      <td>250000000</td>\n",
              "      <td>2015</td>\n",
              "      <td>21000.0</td>\n",
              "      <td>7.5</td>\n",
              "    </tr>\n",
              "  </tbody>\n",
              "</table>\n",
              "</div>"
            ],
            "text/plain": [
              "                                 MOVIE_TITLE  ...  RATING\n",
              "0                                    Avatar   ...     7.9\n",
              "1  Pirates of the Caribbean: At World's End   ...     7.1\n",
              "3                     The Dark Knight Rises   ...     8.5\n",
              "6                                   Tangled   ...     7.8\n",
              "7                   Avengers: Age of Ultron   ...     7.5\n",
              "\n",
              "[5 rows x 15 columns]"
            ]
          },
          "metadata": {},
          "execution_count": 88
        }
      ]
    },
    {
      "cell_type": "code",
      "metadata": {
        "colab": {
          "base_uri": "https://localhost:8080/"
        },
        "id": "POWbiVqqFwmd",
        "outputId": "03a3fe73-6e19-4704-a37c-0f6ae28b228c"
      },
      "source": [
        "df.shape"
      ],
      "execution_count": 89,
      "outputs": [
        {
          "output_type": "execute_result",
          "data": {
            "text/plain": [
              "(62, 15)"
            ]
          },
          "metadata": {},
          "execution_count": 89
        }
      ]
    },
    {
      "cell_type": "markdown",
      "metadata": {
        "id": "PiFREmv7OF79"
      },
      "source": [
        "Plotting Histogram to see in which year maximum movies were released"
      ]
    },
    {
      "cell_type": "code",
      "metadata": {
        "colab": {
          "base_uri": "https://localhost:8080/",
          "height": 428
        },
        "id": "ptvzsOrMS0t3",
        "outputId": "b8535e97-cee4-432b-c13e-e70eeacae81a"
      },
      "source": [
        "fig, ax = plt.subplots(figsize =(10, 7))\n",
        "bins = [2001,2003,2005,2007,2009,2011,2013,2015,2017,2019,2021]\n",
        "ax.hist(df['RELEASE_YEAR'], bins)\n",
        "plt.xticks(bins)\n",
        "plt.show()"
      ],
      "execution_count": 90,
      "outputs": [
        {
          "output_type": "display_data",
          "data": {
            "image/png": "[encoded data removed]",
            "text/plain": [
              "<Figure size 720x504 with 1 Axes>"
            ]
          },
          "metadata": {
            "needs_background": "light"
          }
        }
      ]
    },
    {
      "cell_type": "markdown",
      "metadata": {
        "id": "7o9Ovb2rws47"
      },
      "source": [
        "Now we can find in which year the moview budget was highest and rating greater than 7 on the basis of box plot"
      ]
    },
    {
      "cell_type": "code",
      "metadata": {
        "colab": {
          "base_uri": "https://localhost:8080/",
          "height": 537
        },
        "id": "oxryBrAFGCw6",
        "outputId": "073fd84f-d170-4c51-a0de-82d35750a5bf"
      },
      "source": [
        "box_plot = df[df['RELEASE_YEAR'].isin(df['RELEASE_YEAR'].unique())]\n",
        "box_plot = box_plot[['NUM_USER_FOR_REVIEWS', 'RELEASE_YEAR']]\n",
        "box_plot.boxplot(by='RELEASE_YEAR', grid=True, figsize=(7,7))\n",
        "plt.show()\n"
      ],
      "execution_count": 91,
      "outputs": [
        {
          "output_type": "stream",
          "name": "stderr",
          "text": [
            "/usr/local/lib/python3.7/dist-packages/numpy/core/_asarray.py:83: VisibleDeprecationWarning: Creating an ndarray from ragged nested sequences (which is a list-or-tuple of lists-or-tuples-or ndarrays with different lengths or shapes) is deprecated. If you meant to do this, you must specify 'dtype=object' when creating the ndarray\n",
            "  return array(a, dtype, copy=False, order=order)\n"
          ]
        },
        {
          "output_type": "display_data",
          "data": {
            "image/png": "[encoded data removed]",
            "text/plain": [
              "<Figure size 504x504 with 1 Axes>"
            ]
          },
          "metadata": {
            "needs_background": "light"
          }
        }
      ]
    },
    {
      "cell_type": "markdown",
      "metadata": {
        "id": "OStNGfA3bJdx"
      },
      "source": [
        "Top movies by duration length"
      ]
    },
    {
      "cell_type": "code",
      "metadata": {
        "colab": {
          "base_uri": "https://localhost:8080/",
          "height": 265
        },
        "id": "oIkHbBtabNPe",
        "outputId": "b66c7013-0232-4abc-8a8b-0f5b515758cd"
      },
      "source": [
        "movie_duration = df.iloc[df['TIME'].argsort()[-5:]]\n",
        "plt.bar(movie_duration['MOVIE_TITLE'], movie_duration['TIME'], color='red')\n",
        "plt.show()"
      ],
      "execution_count": 92,
      "outputs": [
        {
          "output_type": "display_data",
          "data": {
            "image/png": "[encoded data removed]",
            "text/plain": [
              "<Figure size 432x288 with 1 Axes>"
            ]
          },
          "metadata": {
            "needs_background": "light"
          }
        }
      ]
    }
  ]
}